{
 "cells": [
  {
   "cell_type": "code",
   "execution_count": 5,
   "id": "bff15e6c",
   "metadata": {},
   "outputs": [],
   "source": [
    "\n",
    "def isBadWords_BagofWords(statement):\n",
    "    res= False\n",
    "    with open(\"badwords.txt\") as f:\n",
    "        contents= f.read().lower()\n",
    "        badwords= contents.split(\" \")\n",
    "        # print(badwords)\n",
    "        string= statement.split(\" \")\n",
    "        sentence= []\n",
    "        for word in string:\n",
    "            for bw in badwords:\n",
    "                if word == bw:\n",
    "                    res= True\n",
    "    return res"
   ]
  },
  {
   "cell_type": "code",
   "execution_count": 6,
   "id": "4bae1171",
   "metadata": {},
   "outputs": [
    {
     "data": {
      "text/plain": [
       "False"
      ]
     },
     "execution_count": 6,
     "metadata": {},
     "output_type": "execute_result"
    }
   ],
   "source": [
    "statement= input().lower()\n",
    "isBadWords_BagofWords(statement)"
   ]
  },
  {
   "cell_type": "code",
   "execution_count": null,
   "id": "e7c40ee9",
   "metadata": {},
   "outputs": [],
   "source": []
  }
 ],
 "metadata": {
  "kernelspec": {
   "display_name": "base",
   "language": "python",
   "name": "python3"
  },
  "language_info": {
   "codemirror_mode": {
    "name": "ipython",
    "version": 3
   },
   "file_extension": ".py",
   "mimetype": "text/x-python",
   "name": "python",
   "nbconvert_exporter": "python",
   "pygments_lexer": "ipython3",
   "version": "3.9.13"
  },
  "vscode": {
   "interpreter": {
    "hash": "4a5a0c502b35b49dee5c279029a21a57d791e08b954349a6fb22555fd4da0b14"
   }
  }
 },
 "nbformat": 4,
 "nbformat_minor": 5
}
